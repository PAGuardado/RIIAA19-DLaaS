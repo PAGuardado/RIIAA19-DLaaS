{
 "cells": [
  {
   "cell_type": "markdown",
   "metadata": {
    "colab_type": "text",
    "id": "view-in-github"
   },
   "source": [
    "<a href=\"https://colab.research.google.com/github/RodolfoFerro/RIIAA19-DLaaS/blob/master/notebooks/A%20Single%20Neuron.ipynb\" target=\"_parent\"><img src=\"https://colab.research.google.com/assets/colab-badge.svg\" alt=\"Open In Colab\"/></a>"
   ]
  },
  {
   "cell_type": "markdown",
   "metadata": {
    "colab_type": "text",
    "id": "CdRLw9l0F5lz"
   },
   "source": [
    "> ### RIIAA 2.0 – Workshop \n",
    "> **Deep Learning as a Service** <br>\n",
    "> **Instructor:** [Rodolfo Ferro](https://rodolfoferro.xyz) <br>\n",
    "> **Email:** <ferro@cimat.mx> <br>\n",
    "> **Twitter:** <https://twitter.com/FerroRodolfo/> <br>\n",
    "> **GitHub:** <https://github.com/RodolfoFerro/> <br>"
   ]
  },
  {
   "cell_type": "markdown",
   "metadata": {
    "colab_type": "text",
    "id": "gFAxlcJAx3q3"
   },
   "source": [
    "# Can a single neuron make a simple decision?\n",
    "\n",
    "Along this notebook we'll explain how a single neuron can make a simple decision. \n",
    "\n",
    "For this problem we will build a simple perceptron, as proposed by [McCulloch & Pitts](https://es.wikipedia.org/wiki/Neurona_de_McCulloch-Pitts).\n",
    "\n",
    "\n",
    "### Problem statement:\n",
    "\n",
    "Imagine that you were accepted to the RIIAA for its 2019 Edition. What are the considerations that you need to take care about in order to attend the edition?\n",
    "\n",
    "> #### What do we need to do?\n",
    "> Program a perceptron to take this simple decision.\n",
    ">\n",
    "> Specifically, we are going to do the following:\n",
    "> - Construct the class and its constructor\n",
    "> - Construct the decision making function\n",
    "> - Define a list of considerations to have in mind\n",
    "> - Think about a reasonable threshold value to make a decision\n",
    "> - Solve the problem\n",
    "\n",
    "\n",
    "## The neuron structure\n",
    "\n",
    "The following image describes a single neuron and how we will need to probram the main structure:\n",
    "\n",
    "<center>\n",
    "    <img width=\"50%\" src=\"https://camo.githubusercontent.com/0e433317a51ea67fb061925026ed3c1c3692cb35/68747470733a2f2f696e7369676874732e7365692e636d752e6564752f7365695f626c6f672f73657374696c6c695f646565706c6561726e696e675f6172746966696369616c6e6575726f6e332e706e67\">\n",
    "</center>"
   ]
  },
  {
   "cell_type": "code",
   "execution_count": null,
   "metadata": {
    "colab": {},
    "colab_type": "code",
    "id": "5o_FIS_Kv8Kj"
   },
   "outputs": [],
   "source": [
    "import numpy as np\n",
    "\n",
    "class perceptron():\n",
    "    def __init__(self, inputs, weights, name=None):\n",
    "        \"\"\"Class constructor.\"\"\"\n",
    "        # TODO.\n",
    "        # Initialize attributes: \n",
    "        # - Size\n",
    "        # - Inputs\n",
    "        # - Weights\n",
    "        # - Name\n",
    "        self.inputs = np.array(inputs)\n",
    "        self.weights = np.array(weights)\n",
    "        self.name = name or 'Default perceptron'\n",
    "        self.size = len(self.inputs)\n",
    "\n",
    "    def decide(self, threshold):\n",
    "        \"\"\"Deciding function.\"\"\"\n",
    "        # TODO.\n",
    "        # Compute the inner product and compare with threshold.\n",
    "        return (self.inputs @ self.weights) >= threshold"
   ]
  },
  {
   "cell_type": "markdown",
   "metadata": {
    "colab_type": "text",
    "id": "u3pNbj-21n6w"
   },
   "source": [
    "## Solving the problem\n",
    "\n",
    "Now that we have the neuron structure, we are able to solve our decision problem.\n",
    "\n",
    "We will genrate a list of questions so we can enter the input value and the associated weight for each one."
   ]
  },
  {
   "cell_type": "code",
   "execution_count": null,
   "metadata": {
    "colab": {},
    "colab_type": "code",
    "id": "DcT9ChE91nMF"
   },
   "outputs": [],
   "source": [
    "inputs, weights = [], []\n",
    "\n",
    "considerations = [\n",
    "    \"Is it going to rain? \",\n",
    "    \"Do I have enough money? \"\n",
    "]\n",
    "\n",
    "for consideration in considerations:\n",
    "    # Let's ask for things to consider and their weights:\n",
    "    i = int(input(consideration))\n",
    "    w = int(input(\"And its associated weight is... \"))\n",
    "    print()\n",
    "    \n",
    "    # Let's add them to our lists:\n",
    "    inputs.append(i)\n",
    "    weights.append(w)\n",
    "\n",
    "threshold = int(input(\"Now, let's set the threshold: \"))"
   ]
  },
  {
   "cell_type": "code",
   "execution_count": null,
   "metadata": {
    "colab": {},
    "colab_type": "code",
    "id": "-08d50VO2HFs"
   },
   "outputs": [],
   "source": [
    "p = perceptron(inputs, weights)\n",
    "print(p.name)\n",
    "print(p.size)"
   ]
  },
  {
   "cell_type": "markdown",
   "metadata": {
    "colab_type": "text",
    "id": "Y1L8K2LM4Z1w"
   },
   "source": [
    "Now let's take a decision using the perceptron."
   ]
  },
  {
   "cell_type": "code",
   "execution_count": null,
   "metadata": {
    "colab": {},
    "colab_type": "code",
    "id": "9ktwi7b74aOT"
   },
   "outputs": [],
   "source": [
    "p.decide(threshold)"
   ]
  },
  {
   "cell_type": "markdown",
   "metadata": {
    "colab_type": "text",
    "id": "zlTdDGhe2GgC"
   },
   "source": [
    "#### Extra activity:\n",
    "\n",
    "Modify the values of the inputs and weights, pay attention on how the decision changes based on these values."
   ]
  },
  {
   "cell_type": "code",
   "execution_count": null,
   "metadata": {
    "colab": {},
    "colab_type": "code",
    "id": "x17m0qWX3Qu8"
   },
   "outputs": [],
   "source": []
  }
 ],
 "metadata": {
  "colab": {
   "collapsed_sections": [],
   "include_colab_link": true,
   "name": "A Single Neuron",
   "provenance": [],
   "version": "0.3.2"
  },
  "kernelspec": {
   "display_name": "Python 3",
   "language": "python",
   "name": "python3"
  },
  "language_info": {
   "codemirror_mode": {
    "name": "ipython",
    "version": 3
   },
   "file_extension": ".py",
   "mimetype": "text/x-python",
   "name": "python",
   "nbconvert_exporter": "python",
   "pygments_lexer": "ipython3",
   "version": "3.7.4"
  }
 },
 "nbformat": 4,
 "nbformat_minor": 4
}
